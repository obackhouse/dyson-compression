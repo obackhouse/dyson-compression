{
 "cells": [
  {
   "cell_type": "code",
   "execution_count": 1,
   "metadata": {},
   "outputs": [],
   "source": [
    "from pyscf import gto, scf, mp, adc, cc, lib, ao2mo\n",
    "import matplotlib.pyplot as plt\n",
    "import numpy as np\n",
    "import dyson"
   ]
  },
  {
   "cell_type": "code",
   "execution_count": 2,
   "metadata": {},
   "outputs": [],
   "source": [
    "# Build an MP2 self-energy and compress it - obtains a truncated MP2 energy,\n",
    "# and gives access to Dyson-like ADC(2) excitations in place of the non-Dyson\n",
    "# standard implementation.\n",
    "\n",
    "nmom_lanczos = 4\n",
    "nmom_projection = 3"
   ]
  },
  {
   "cell_type": "code",
   "execution_count": 3,
   "metadata": {},
   "outputs": [
    {
     "name": "stdout",
     "output_type": "stream",
     "text": [
      "MP2 energy: -0.20905684800797256\n",
      "non-Dyson ADC(2) IP: 0.3984057507817479\n",
      "non-Dyson ADC(2) EA: 0.15307443795091602\n"
     ]
    }
   ],
   "source": [
    "# Get the PySCF methods:\n",
    "\n",
    "mol = gto.M(atom='O 0 0 0; H 0 0 1; H 0 1 0', basis='cc-pvdz', verbose=0)\n",
    "rhf = scf.RHF(mol).run(conv_tol=1e-12)\n",
    "mp2 = mp.MP2(rhf).run()\n",
    "adc2 = adc.ADC(rhf)\n",
    "nmo = rhf.mo_occ.size\n",
    "\n",
    "print('MP2 energy:', mp2.e_corr)\n",
    "print('non-Dyson ADC(2) IP:', adc2.run().ip_adc()[0])\n",
    "print('non-Dyson ADC(2) EA:', adc2.run().ea_adc()[0])"
   ]
  },
  {
   "cell_type": "code",
   "execution_count": 4,
   "metadata": {},
   "outputs": [],
   "source": [
    "# Build the moments of the occupied and virtual self-energies:\n",
    "\n",
    "ei = rhf.mo_energy[rhf.mo_occ > 0]\n",
    "ea = rhf.mo_energy[rhf.mo_occ == 0]\n",
    "eija = lib.direct_sum('i+j-a->ija', ei, ei, ea)\n",
    "eabi = lib.direct_sum('a+b-i->abi', ea, ea, ei)\n",
    "\n",
    "cx = rhf.mo_coeff\n",
    "ci = rhf.mo_coeff[:, rhf.mo_occ > 0]\n",
    "ca = rhf.mo_coeff[:, rhf.mo_occ == 0]\n",
    "xija = ao2mo.incore.general(rhf._eri, (cx,ci,ci,ca), compact=False).reshape([x.shape[1] for x in (cx,ci,ci,ca)])\n",
    "xabi = ao2mo.incore.general(rhf._eri, (cx,ca,ca,ci), compact=False).reshape([x.shape[1] for x in (cx,ca,ca,ci)])\n",
    "\n",
    "t_occ = np.einsum('xija,yija,nija->nxy', xija, 2*xija-xija.swapaxes(1,2), eija[None]**np.arange(2*nmom_lanczos+2)[:,None,None,None])\n",
    "t_vir = np.einsum('xabi,yabi,nabi->nxy', xabi, 2*xabi-xabi.swapaxes(1,2), eabi[None]**np.arange(2*nmom_lanczos+2)[:,None,None,None])"
   ]
  },
  {
   "cell_type": "code",
   "execution_count": 9,
   "metadata": {},
   "outputs": [
    {
     "name": "stdout",
     "output_type": "stream",
     "text": [
      "[True, True, True, True, True, True, True, True]\n",
      "Central moments match: True\n",
      "Occupied moments match: False\n",
      "Virtual moments match: False\n"
     ]
    }
   ],
   "source": [
    "# Perform the truncation and check consistency in the moments - separate occupied \n",
    "# and virtual moments should only match if nmom_projection is None.\n",
    "\n",
    "e_red, v_red = dyson.kernel_se(t_occ, t_vir, nmom_lanczos, nmom_projection, phys=np.diag(rhf.mo_energy))\n",
    "\n",
    "e_occ, v_occ = e_red[e_red < 0], v_red[:, e_red < 0]\n",
    "e_vir, v_vir = e_red[e_red >= 0], v_red[:, e_red >= 0]\n",
    "\n",
    "t_red = np.einsum('xk,yk,nk->nxy', v_red, v_red, e_red[None]**np.arange(2*nmom_lanczos+2)[:,None])\n",
    "t_occ_red = np.einsum('xk,yk,nk->nxy', v_occ, v_occ, e_occ[None]**np.arange(2*nmom_lanczos+2)[:,None])\n",
    "t_vir_red = np.einsum('xk,yk,nk->nxy', v_vir, v_vir, e_vir[None]**np.arange(2*nmom_lanczos+2)[:,None])\n",
    "\n",
    "all_matches = [np.allclose(x/np.max(x), y/np.max(x)) for x,y in zip(t_occ+t_vir, t_red)][:2*min(nmom_lanczos, nmom_projection)+2]\n",
    "occ_matches = [np.allclose(x/np.max(x), y/np.max(x)) for x,y in zip(t_occ, t_occ_red)][:2*min(nmom_lanczos, nmom_projection)+2]\n",
    "vir_matches = [np.allclose(x/np.max(x), y/np.max(x)) for x,y in zip(t_vir, t_vir_red)][:2*min(nmom_lanczos, nmom_projection)+2]\n",
    "\n",
    "print('Central moments match:', all(all_matches))\n",
    "print('Occupied moments match:', all(occ_matches))\n",
    "print('Virtual moments match:', all(vir_matches))"
   ]
  },
  {
   "cell_type": "code",
   "execution_count": 6,
   "metadata": {},
   "outputs": [
    {
     "name": "stdout",
     "output_type": "stream",
     "text": [
      "Compressed MP2 energy: -0.20879318952488593\n"
     ]
    }
   ],
   "source": [
    "# Get the truncated MP2 energy (will approach MP2 in the limit of infinite moments):\n",
    "\n",
    "v = v_red[rhf.mo_occ > 0][:, e_red >= 0]\n",
    "d = ei[:, None] - e_red[e_red >= 0][None]\n",
    "e_mp2 = np.einsum('xk,xk,xk->', v, v.conj(), 1.0/d)\n",
    "\n",
    "print('Compressed MP2 energy:', e_mp2)"
   ]
  },
  {
   "cell_type": "code",
   "execution_count": 7,
   "metadata": {},
   "outputs": [
    {
     "name": "stdout",
     "output_type": "stream",
     "text": [
      "Compressed Dyson ADC(2) IP: 0.40236183053860997\n",
      "Compressed Dyson ADC(2) EA: 0.1537265459917055\n"
     ]
    }
   ],
   "source": [
    "# Get the truncated Dyson ADC(2) IP and EA (will approach Dyson ADC(2) in the limit \n",
    "# of infinite moments):\n",
    "\n",
    "w, c = np.linalg.eigh(dyson.linalg.build_spectral_matrix(np.diag(rhf.mo_energy), e_red, v_red))\n",
    "\n",
    "print('Compressed Dyson ADC(2) IP:', -np.max(w[w < 0]))\n",
    "print('Compressed Dyson ADC(2) EA:', np.min(w[w >= 0]))"
   ]
  }
 ],
 "metadata": {
  "kernelspec": {
   "display_name": "Python 3",
   "language": "python",
   "name": "python3"
  },
  "language_info": {
   "codemirror_mode": {
    "name": "ipython",
    "version": 3
   },
   "file_extension": ".py",
   "mimetype": "text/x-python",
   "name": "python",
   "nbconvert_exporter": "python",
   "pygments_lexer": "ipython3",
   "version": "3.7.3"
  }
 },
 "nbformat": 4,
 "nbformat_minor": 2
}
